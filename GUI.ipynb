{
 "cells": [
  {
   "cell_type": "code",
   "execution_count": null,
   "id": "085ab59f",
   "metadata": {},
   "outputs": [],
   "source": [
    "pack(side=[LEFT, RIGHT, BOTTOM, TOP], expand=[YES, NO], fill =[X, Y, BOTH])"
   ]
  },
  {
   "cell_type": "code",
   "execution_count": 85,
   "id": "101b08bd",
   "metadata": {},
   "outputs": [],
   "source": [
    "from tkinter import *\n",
    "root = Tk()\n",
    "Button(root, text=\"Left\").pack(side=LEFT, expand=YES, fill=Y)\n",
    "Button(root, text=\"Right\").pack(side=RIGHT, expand=YES, fill=Y)\n",
    "Button(root, text=\"Top\").pack(side=TOP, expand=YES, fill=BOTH)\n",
    "Button(root, text=\"bottom\").pack(side=BOTTOM, expand=YES, fill=BOTH)\n",
    "root.mainloop()"
   ]
  },
  {
   "cell_type": "code",
   "execution_count": 89,
   "id": "2396f66a",
   "metadata": {},
   "outputs": [],
   "source": [
    "import tkinter as tk\n",
    "root = tk.Tk()\n",
    "root.geometry(\"200x300\")\n",
    "teks1 = tk.StringVar()\n",
    "teks2 = tk.StringVar()\n",
    "label_1 = Label(root, text=\"Please enter details below to login\").place(x=10, y=10)\n",
    "label_2 = Label(root, text=\"Username\").place(x=60, y=40)\n",
    "nama_entry1 = tk.Entry(root, textvariable = teks1, font=('calibre', '10', 'normal')).place(x=20, y=70)\n",
    "label_3 = Label(root, text=\"Password\").place(x=60, y=100)\n",
    "nama_entry2 = tk.Entry(root, textvariable = teks2, font=('calibre', '10', 'normal')).place(x=20, y=130)\n",
    "submit_button = Button(root,text=\"Submit\").place(x=70,y=180)\n",
    "root.mainloop()"
   ]
  },
  {
   "cell_type": "code",
   "execution_count": 90,
   "id": "14b99e34",
   "metadata": {},
   "outputs": [],
   "source": [
    "import tkinter as tk\n",
    "root = tk.Tk()\n",
    "root.geometry(\"360x200\")\n",
    "teks1 = tk.StringVar()\n",
    "nama_entry = tk.Entry(root, textvariable = teks2, font=('calibre', '22', 'normal'), bd =5).place(x=20, y=20)\n",
    "Button(root, text=\"7\", width=10).place(x=20,y=80)\n",
    "Button(root, text=\"8\", width=10).place(x=100,y=80)\n",
    "Button(root, text=\"9\", width=10).place(x=180,y=80)\n",
    "Button(root, text=\"+\", width=10).place(x=260,y=80)\n",
    "\n",
    "Button(root, text=\"4\", width=10).place(x=20,y=105)\n",
    "Button(root, text=\"5\", width=10).place(x=100,y=105)\n",
    "Button(root, text=\"6\", width=10).place(x=180,y=105)\n",
    "Button(root, text=\"-\", width=10).place(x=260,y=105)\n",
    "\n",
    "Button(root, text=\"1\", width=10).place(x=20,y=130)\n",
    "Button(root, text=\"2\", width=10).place(x=100,y=130)\n",
    "Button(root, text=\"3\", width=10).place(x=180,y=130)\n",
    "Button(root, text=\"-\", width=10).place(x=260,y=130)\n",
    "\n",
    "Button(root, text=\"c\", width=10).place(x=20,y=155)\n",
    "Button(root, text=\"0\", width=10).place(x=100,y=155)\n",
    "Button(root, text=\"=\", width=10).place(x=180,y=155)\n",
    "Button(root, text=\"/\", width=10).place(x=260,y=155)\n",
    "root.mainloop()"
   ]
  },
  {
   "cell_type": "code",
   "execution_count": null,
   "id": "1f0ea537",
   "metadata": {},
   "outputs": [],
   "source": []
  }
 ],
 "metadata": {
  "kernelspec": {
   "display_name": "Python 3 (ipykernel)",
   "language": "python",
   "name": "python3"
  },
  "language_info": {
   "codemirror_mode": {
    "name": "ipython",
    "version": 3
   },
   "file_extension": ".py",
   "mimetype": "text/x-python",
   "name": "python",
   "nbconvert_exporter": "python",
   "pygments_lexer": "ipython3",
   "version": "3.9.13"
  }
 },
 "nbformat": 4,
 "nbformat_minor": 5
}

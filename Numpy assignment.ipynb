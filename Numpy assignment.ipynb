{
 "cells": [
  {
   "cell_type": "markdown",
   "id": "2e518936",
   "metadata": {},
   "source": [
    "Numpy Introduction"
   ]
  },
  {
   "cell_type": "code",
   "execution_count": 2,
   "id": "dfe54d84",
   "metadata": {},
   "outputs": [
    {
     "data": {
      "text/plain": [
       "array([ 7, 11, 12, 44, 65, 72])"
      ]
     },
     "execution_count": 2,
     "metadata": {},
     "output_type": "execute_result"
    }
   ],
   "source": [
    "#Buatlah array numpy yang berisikan nilai : 7,11,12,44,65,72\n",
    "import numpy as np\n",
    "array_numpy = np.array([7,11,12,44,65,72])\n",
    "array_numpy"
   ]
  },
  {
   "cell_type": "code",
   "execution_count": 3,
   "id": "237af351",
   "metadata": {},
   "outputs": [
    {
     "data": {
      "text/plain": [
       "array(['Koding Akademi', 'Python', 'Data Analyst', 'Programming'],\n",
       "      dtype='<U14')"
      ]
     },
     "execution_count": 3,
     "metadata": {},
     "output_type": "execute_result"
    }
   ],
   "source": [
    "#Buatlah array numpy lainnya yang berisikan string: Koding Akademi, Pythin, Data Analyst, Programming\n",
    "array_numpy_string = np.array([\"Koding Akademi\", \"Python\", \"Data Analyst\", \"Programming\"])\n",
    "array_numpy_string"
   ]
  },
  {
   "cell_type": "code",
   "execution_count": 4,
   "id": "13533fb1",
   "metadata": {},
   "outputs": [
    {
     "name": "stdout",
     "output_type": "stream",
     "text": [
      "7\n",
      "11\n",
      "12\n",
      "44\n",
      "65\n",
      "72\n"
     ]
    }
   ],
   "source": [
    "#Tampilkan semua nilai dalam array tersebut satu-persatu dengan menggunakan looping\n",
    "for i in array_numpy:\n",
    "    print(i)"
   ]
  },
  {
   "cell_type": "code",
   "execution_count": 5,
   "id": "d7f8448d",
   "metadata": {},
   "outputs": [
    {
     "name": "stdout",
     "output_type": "stream",
     "text": [
      "Koding Akademi\n",
      "Python\n",
      "Data Analyst\n",
      "Programming\n"
     ]
    }
   ],
   "source": [
    "for a in array_numpy_string:\n",
    "    print(a)"
   ]
  },
  {
   "cell_type": "markdown",
   "id": "9afbd227",
   "metadata": {},
   "source": [
    "Numpy Arrays"
   ]
  },
  {
   "cell_type": "code",
   "execution_count": 8,
   "id": "ca5dd377",
   "metadata": {},
   "outputs": [
    {
     "data": {
      "text/plain": [
       "array([ 0,  1,  2,  3,  4,  5,  6,  7,  8,  9, 10, 11, 12, 13, 14, 15, 16,\n",
       "       17, 18, 19, 20])"
      ]
     },
     "execution_count": 8,
     "metadata": {},
     "output_type": "execute_result"
    }
   ],
   "source": [
    "#a. Tampilkan semua nilai dalam array (nilai 0-20)\n",
    "a = np.arange(0,21,1)\n",
    "a"
   ]
  },
  {
   "cell_type": "code",
   "execution_count": 9,
   "id": "1d35325b",
   "metadata": {},
   "outputs": [
    {
     "data": {
      "text/plain": [
       "array([ 5,  6,  7,  8,  9, 10, 11, 12])"
      ]
     },
     "execution_count": 9,
     "metadata": {},
     "output_type": "execute_result"
    }
   ],
   "source": [
    "#b. Tampilkan nilai 5 - 12\n",
    "a[5:13]"
   ]
  },
  {
   "cell_type": "code",
   "execution_count": 10,
   "id": "9a9de7d3",
   "metadata": {},
   "outputs": [
    {
     "data": {
      "text/plain": [
       "array([18, 19, 20])"
      ]
     },
     "execution_count": 10,
     "metadata": {},
     "output_type": "execute_result"
    }
   ],
   "source": [
    "#c. Tampilkan 3 nilai terakhir pada array\n",
    "a[-3:]"
   ]
  },
  {
   "cell_type": "code",
   "execution_count": 11,
   "id": "ed8e1957",
   "metadata": {},
   "outputs": [
    {
     "name": "stdout",
     "output_type": "stream",
     "text": [
      "0\n",
      "2\n",
      "4\n",
      "6\n",
      "8\n",
      "10\n",
      "12\n",
      "14\n",
      "16\n",
      "18\n",
      "20\n"
     ]
    }
   ],
   "source": [
    "#d. Tampilkan nilai genap pada array\n",
    "for i in a:\n",
    "  if i %2 ==0:\n",
    "    print(i)"
   ]
  },
  {
   "cell_type": "markdown",
   "id": "769707a8",
   "metadata": {},
   "source": [
    "Numpy Arrays Dimensions & Shapes"
   ]
  },
  {
   "cell_type": "code",
   "execution_count": 12,
   "id": "4091e5eb",
   "metadata": {},
   "outputs": [
    {
     "data": {
      "text/plain": [
       "array([[10, 20, 30],\n",
       "       [ 5, 10, 20],\n",
       "       [ 2,  4,  6]])"
      ]
     },
     "execution_count": 12,
     "metadata": {},
     "output_type": "execute_result"
    }
   ],
   "source": [
    "#Implementasikan matriks di atas ke dalam array Numpy 2 dan 3 dimensi\n",
    "#Numpy 2 dimensi\n",
    "dimensi_2 = np.array([\n",
    "    [10, 20, 30],\n",
    "    [5, 10, 20],\n",
    "    [2, 4, 6]\n",
    "])\n",
    "dimensi_2"
   ]
  },
  {
   "cell_type": "code",
   "execution_count": 13,
   "id": "810efb85",
   "metadata": {},
   "outputs": [
    {
     "data": {
      "text/plain": [
       "array([[10, 11, 12],\n",
       "       [13, 14, 15],\n",
       "       [16, 17, 18]])"
      ]
     },
     "execution_count": 13,
     "metadata": {},
     "output_type": "execute_result"
    }
   ],
   "source": [
    "dimensi_2_part2 = np.array([\n",
    "    [10, 11, 12],\n",
    "    [13, 14, 15],\n",
    "    [16, 17, 18]\n",
    "])\n",
    "dimensi_2_part2"
   ]
  },
  {
   "cell_type": "code",
   "execution_count": 14,
   "id": "8a740ee6",
   "metadata": {},
   "outputs": [
    {
     "data": {
      "text/plain": [
       "array([[20, 21, 22],\n",
       "       [23, 24, 25],\n",
       "       [26, 27, 28]])"
      ]
     },
     "execution_count": 14,
     "metadata": {},
     "output_type": "execute_result"
    }
   ],
   "source": [
    "dimensi_2_part3 = np.array([\n",
    "    [20, 21, 22],\n",
    "    [23, 24, 25],\n",
    "    [26, 27, 28]\n",
    "])\n",
    "dimensi_2_part3"
   ]
  },
  {
   "cell_type": "code",
   "execution_count": 15,
   "id": "e06c0b2d",
   "metadata": {},
   "outputs": [
    {
     "data": {
      "text/plain": [
       "array([[30, 31, 32],\n",
       "       [33, 34, 35],\n",
       "       [36, 37, 38]])"
      ]
     },
     "execution_count": 15,
     "metadata": {},
     "output_type": "execute_result"
    }
   ],
   "source": [
    "dimensi_2_part4 = np.array([\n",
    "    [30, 31, 32],\n",
    "    [33, 34, 35],\n",
    "    [36, 37, 38]\n",
    "])\n",
    "dimensi_2_part4"
   ]
  },
  {
   "cell_type": "code",
   "execution_count": 16,
   "id": "591cb924",
   "metadata": {},
   "outputs": [
    {
     "data": {
      "text/plain": [
       "array([[[10, 20, 30],\n",
       "        [ 5, 10, 20],\n",
       "        [ 2,  4,  6]],\n",
       "\n",
       "       [[10, 11, 12],\n",
       "        [13, 14, 15],\n",
       "        [16, 17, 18]],\n",
       "\n",
       "       [[20, 21, 22],\n",
       "        [23, 24, 25],\n",
       "        [26, 27, 28]],\n",
       "\n",
       "       [[30, 31, 32],\n",
       "        [33, 34, 35],\n",
       "        [36, 37, 38]]])"
      ]
     },
     "execution_count": 16,
     "metadata": {},
     "output_type": "execute_result"
    }
   ],
   "source": [
    "#dimensi 3\n",
    "array_3 = np.array([\n",
    "    [\n",
    "        [10, 20, 30],\n",
    "        [5, 10, 20],\n",
    "        [2, 4, 6],\n",
    "    ],\n",
    "    [\n",
    "        [10, 11, 12],\n",
    "        [13, 14, 15],\n",
    "        [16, 17, 18],\n",
    "    ],\n",
    "    [\n",
    "        [20, 21, 22],\n",
    "        [23, 24, 25],\n",
    "        [26, 27, 28],\n",
    "    ],\n",
    "    [\n",
    "        [30, 31, 32],\n",
    "        [33, 34, 35],\n",
    "        [36, 37, 38]\n",
    "    ]\n",
    "])\n",
    "array_3"
   ]
  },
  {
   "cell_type": "markdown",
   "id": "0e0557f8",
   "metadata": {},
   "source": [
    "Numpy Arrays Indexing and Slicing of Matrices"
   ]
  },
  {
   "cell_type": "code",
   "execution_count": 17,
   "id": "d5315f8d",
   "metadata": {},
   "outputs": [
    {
     "data": {
      "text/plain": [
       "array([['Denis', 'Scratch', '8'],\n",
       "       ['Frank', 'Python', '18'],\n",
       "       ['Roger', 'Unity', '15']], dtype='<U11')"
      ]
     },
     "execution_count": 17,
     "metadata": {},
     "output_type": "execute_result"
    }
   ],
   "source": [
    "#1. Buatlah data di atas ke dalam sebuah array numpy\n",
    "import numpy as np\n",
    "array_2_dimensi = np.array([\n",
    "    ['Denis', 'Scratch', 8],\n",
    "    ['Frank', 'Python', 18],\n",
    "    ['Roger', 'Unity', 15]\n",
    "])\n",
    "array_2_dimensi"
   ]
  },
  {
   "cell_type": "code",
   "execution_count": 19,
   "id": "73cc7ad9",
   "metadata": {},
   "outputs": [
    {
     "data": {
      "text/plain": [
       "array(['Frank', 'Python', '18'], dtype='<U11')"
      ]
     },
     "execution_count": 19,
     "metadata": {},
     "output_type": "execute_result"
    }
   ],
   "source": [
    "#2. Tampilkan masing-masing baris 1,2, dan 3 secara terpisah\n",
    "array_2_dimensi [0]"
   ]
  },
  {
   "cell_type": "code",
   "execution_count": 20,
   "id": "65aa6719",
   "metadata": {},
   "outputs": [
    {
     "data": {
      "text/plain": [
       "array(['Frank', 'Python', '18'], dtype='<U11')"
      ]
     },
     "execution_count": 20,
     "metadata": {},
     "output_type": "execute_result"
    }
   ],
   "source": [
    "array_2_dimensi [1]"
   ]
  },
  {
   "cell_type": "code",
   "execution_count": 21,
   "id": "0ae30124",
   "metadata": {},
   "outputs": [
    {
     "data": {
      "text/plain": [
       "array(['Roger', 'Unity', '15'], dtype='<U11')"
      ]
     },
     "execution_count": 21,
     "metadata": {},
     "output_type": "execute_result"
    }
   ],
   "source": [
    "array_2_dimensi[2]"
   ]
  },
  {
   "cell_type": "code",
   "execution_count": 22,
   "id": "09535b68",
   "metadata": {},
   "outputs": [
    {
     "data": {
      "text/plain": [
       "array([['Denis', 'Scratch'],\n",
       "       ['Frank', 'Python'],\n",
       "       ['Roger', 'Unity']], dtype='<U11')"
      ]
     },
     "execution_count": 22,
     "metadata": {},
     "output_type": "execute_result"
    }
   ],
   "source": [
    "#3. Tampilkan kolom pertama dan kedua\n",
    "array_2_dimensi [:,:2]"
   ]
  },
  {
   "cell_type": "code",
   "execution_count": 24,
   "id": "3bde5507",
   "metadata": {},
   "outputs": [
    {
     "data": {
      "text/plain": [
       "array([['Denis', 'Roblox', '8'],\n",
       "       ['Frank', 'Python', '18'],\n",
       "       ['Roger', 'Unity', '15']], dtype='<U11')"
      ]
     },
     "execution_count": 24,
     "metadata": {},
     "output_type": "execute_result"
    }
   ],
   "source": [
    "#4. Ubah data dengan nilai scratch menjadi roblox\n",
    "array_2_dimensi[0][1] = 'Roblox'\n",
    "array_2_dimensi"
   ]
  },
  {
   "cell_type": "markdown",
   "id": "4cc7514f",
   "metadata": {},
   "source": [
    "Numpy Operations"
   ]
  },
  {
   "cell_type": "code",
   "execution_count": 25,
   "id": "d938a268",
   "metadata": {},
   "outputs": [
    {
     "data": {
      "text/plain": [
       "array([['1', 'Januari', '4799'],\n",
       "       ['2', 'Februari', '3154'],\n",
       "       ['3', 'Maret', '4238'],\n",
       "       ['4', 'April', '2929'],\n",
       "       ['5', 'Mei', '1615']], dtype='<U11')"
      ]
     },
     "execution_count": 25,
     "metadata": {},
     "output_type": "execute_result"
    }
   ],
   "source": [
    "#1. Buatlah data di atas ke dalam sebuah array Numpy\n",
    "import numpy as np\n",
    "array_numpy_operation = np.array([\n",
    "    [1, 'Januari', 4799],\n",
    "    [2, 'Februari', 3154],\n",
    "    [3, 'Maret', 4238],\n",
    "    [4, 'April', 2929],\n",
    "    [5, 'Mei', 1615]\n",
    "])\n",
    "array_numpy_operation"
   ]
  },
  {
   "cell_type": "code",
   "execution_count": 26,
   "id": "0ee69e1a",
   "metadata": {},
   "outputs": [
    {
     "data": {
      "text/plain": [
       "16735"
      ]
     },
     "execution_count": 26,
     "metadata": {},
     "output_type": "execute_result"
    }
   ],
   "source": [
    "#2. Jumlahkan semua nilai pada kolom ketiga\n",
    "array_numpy_operation[:,2].astype(int).sum()"
   ]
  },
  {
   "cell_type": "code",
   "execution_count": 27,
   "id": "76735cde",
   "metadata": {},
   "outputs": [
    {
     "data": {
      "text/plain": [
       "3347.0"
      ]
     },
     "execution_count": 27,
     "metadata": {},
     "output_type": "execute_result"
    }
   ],
   "source": [
    "#3. Carilah rata-rata dari kolom ketiga\n",
    "array_numpy_operation[:,2].astype(int).mean()"
   ]
  },
  {
   "cell_type": "code",
   "execution_count": 29,
   "id": "f9ed1f8c",
   "metadata": {},
   "outputs": [
    {
     "data": {
      "text/plain": [
       "array([9598, 6308, 8476, 5858, 3230])"
      ]
     },
     "execution_count": 29,
     "metadata": {},
     "output_type": "execute_result"
    }
   ],
   "source": [
    "#4. Kalikanlah semua nilai pada kolom ketiga dengan 2\n",
    "array_numpy_operation[:,2].astype(int) \n",
    "result = 2 * array_numpy_operation[:,2].astype(int) \n",
    "result"
   ]
  },
  {
   "cell_type": "code",
   "execution_count": 30,
   "id": "6376a811",
   "metadata": {},
   "outputs": [
    {
     "data": {
      "text/plain": [
       "array([['1', 'Januari', '5000'],\n",
       "       ['2', 'Februari', '5000'],\n",
       "       ['3', 'Maret', '5000'],\n",
       "       ['4', 'April', '5000'],\n",
       "       ['5', 'Mei', '5000']], dtype='<U11')"
      ]
     },
     "execution_count": 30,
     "metadata": {},
     "output_type": "execute_result"
    }
   ],
   "source": [
    "#5. Gantilah semua nilai pada kolom ketiga dengan nilai 5000\n",
    "array_numpy_operation[:,2].astype(int)\n",
    "array_numpy_operation[:,2] = 5000\n",
    "array_numpy_operation"
   ]
  },
  {
   "cell_type": "markdown",
   "id": "24c69291",
   "metadata": {},
   "source": [
    "Numpy Operations Boolean Arrays"
   ]
  },
  {
   "cell_type": "code",
   "execution_count": 31,
   "id": "96cc5f85",
   "metadata": {},
   "outputs": [
    {
     "data": {
      "text/plain": [
       "array([[672, 195, 677, 813],\n",
       "       [  8, 707, 300, 708],\n",
       "       [289, 483, 548, 161],\n",
       "       [484, 608, 434, 411]])"
      ]
     },
     "execution_count": 31,
     "metadata": {},
     "output_type": "execute_result"
    }
   ],
   "source": [
    "#1. Buatlah 1 buah array Numpy berukuran 4 x 4 dengan menggunakan random nilai 100 sampai dengan 1000\n",
    "A = np.random.randint(1000, size=(4,4))\n",
    "A"
   ]
  },
  {
   "cell_type": "code",
   "execution_count": 33,
   "id": "30ce9151",
   "metadata": {},
   "outputs": [
    {
     "data": {
      "text/plain": [
       "array([[672.,  nan, 677., 813.],\n",
       "       [ nan, 707.,  nan, 708.],\n",
       "       [ nan,  nan, 548.,  nan],\n",
       "       [ nan, 608.,  nan,  nan]])"
      ]
     },
     "execution_count": 33,
     "metadata": {},
     "output_type": "execute_result"
    }
   ],
   "source": [
    "#2. Tampilkan elemen mana saja yang memiliki nilai > 500\n",
    "data = np.where(A > 500, A,np.nan)\n",
    "data"
   ]
  },
  {
   "cell_type": "code",
   "execution_count": 34,
   "id": "d68e2a1b",
   "metadata": {},
   "outputs": [
    {
     "data": {
      "text/plain": [
       "array([672., 677., 813., 707., 708., 548., 608.])"
      ]
     },
     "execution_count": 34,
     "metadata": {},
     "output_type": "execute_result"
    }
   ],
   "source": [
    "data[~np.isnan(data)]"
   ]
  },
  {
   "cell_type": "code",
   "execution_count": 36,
   "id": "4686faab",
   "metadata": {},
   "outputs": [
    {
     "data": {
      "text/plain": [
       "array([300., 289., 483., 548., 484., 434., 411.])"
      ]
     },
     "execution_count": 36,
     "metadata": {},
     "output_type": "execute_result"
    }
   ],
   "source": [
    "#3. Tampilkan elemen mana saja yang memiliki nilai > 200 dan < 500\n",
    "data = np.where((A > 200) & (A < 550), A,np.nan)\n",
    "data[~np.isnan(data)]"
   ]
  },
  {
   "cell_type": "markdown",
   "id": "92e73ef1",
   "metadata": {},
   "source": [
    "NUMPY MINI PROJECT"
   ]
  },
  {
   "cell_type": "code",
   "execution_count": 37,
   "id": "cbc6668f",
   "metadata": {},
   "outputs": [
    {
     "data": {
      "text/plain": [
       "array([ 7,  2,  1, 19, 10, 22, 11, 65])"
      ]
     },
     "execution_count": 37,
     "metadata": {},
     "output_type": "execute_result"
    }
   ],
   "source": [
    "#Program menerima 2 buah matriks 1 dimensi yang disimpan dalam masing-masing array Numpy\n",
    "a = np.array([7,2,1,19,10,22,11,65])\n",
    "a"
   ]
  },
  {
   "cell_type": "code",
   "execution_count": 38,
   "id": "979b0615",
   "metadata": {},
   "outputs": [
    {
     "data": {
      "text/plain": [
       "array([17, 12, 11, 29, 16, 25, 19,  4])"
      ]
     },
     "execution_count": 38,
     "metadata": {},
     "output_type": "execute_result"
    }
   ],
   "source": [
    "b = np.array([17,12,11,29,16,25,19,4])\n",
    "b"
   ]
  },
  {
   "cell_type": "code",
   "execution_count": 39,
   "id": "6c6c98ff",
   "metadata": {},
   "outputs": [
    {
     "data": {
      "text/plain": [
       "(array([ 7,  2,  1, 19, 10, 22, 11, 65, 17, 12, 11, 29, 16, 25, 19,  4]),\n",
       " 137,\n",
       " 133,\n",
       " 17.125,\n",
       " 16.625,\n",
       " 19.36128546868725,\n",
       " 7.431983248097374)"
      ]
     },
     "execution_count": 39,
     "metadata": {},
     "output_type": "execute_result"
    }
   ],
   "source": [
    "#2. Program memiliki return function dapat :\n",
    "#a. Menjumlahkan kedua buah matriks\n",
    "#b. Mencari sum, mean, dan standar deviasi dari masing-masing matriks\n",
    "#3. Hasil akhir berupa penjumlahan kedua buah matriks, nilai sum, mean, dan standar deviasi dari masing-masing matriks\n",
    "\n",
    "def matops(a,b):\n",
    "  data = np.concatenate((a,b),axis=0)\n",
    "  return data, a.sum(),b.sum(),a.mean(),b.mean(),a.std(),b.std()\n",
    "matops(a,b)"
   ]
  },
  {
   "cell_type": "code",
   "execution_count": 46,
   "id": "98f9b93d",
   "metadata": {},
   "outputs": [
    {
     "data": {
      "text/plain": [
       "270"
      ]
     },
     "execution_count": 46,
     "metadata": {},
     "output_type": "execute_result"
    }
   ],
   "source": [
    "c = a.sum() + b.sum()\n",
    "c"
   ]
  },
  {
   "cell_type": "code",
   "execution_count": null,
   "id": "144eeb6f",
   "metadata": {},
   "outputs": [],
   "source": []
  }
 ],
 "metadata": {
  "kernelspec": {
   "display_name": "Python 3 (ipykernel)",
   "language": "python",
   "name": "python3"
  },
  "language_info": {
   "codemirror_mode": {
    "name": "ipython",
    "version": 3
   },
   "file_extension": ".py",
   "mimetype": "text/x-python",
   "name": "python",
   "nbconvert_exporter": "python",
   "pygments_lexer": "ipython3",
   "version": "3.9.13"
  }
 },
 "nbformat": 4,
 "nbformat_minor": 5
}

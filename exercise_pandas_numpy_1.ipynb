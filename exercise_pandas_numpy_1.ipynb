{
 "cells": [
  {
   "cell_type": "code",
   "execution_count": 3,
   "id": "91985379-8ec6-418c-9029-8ec127155450",
   "metadata": {},
   "outputs": [],
   "source": [
    "import pandas as pd\n",
    "import numpy as np"
   ]
  },
  {
   "cell_type": "code",
   "execution_count": 5,
   "id": "2ac8ab26-636f-43c2-a9fb-ee85364de9b7",
   "metadata": {},
   "outputs": [],
   "source": [
    "#write the data\n",
    "a = pd.Series([35.467, 63.951, 80.940, 60.665, 127.061, 64.511, 318.523])"
   ]
  },
  {
   "cell_type": "code",
   "execution_count": 6,
   "id": "e69879fc-6633-4146-9743-c13011e168b6",
   "metadata": {},
   "outputs": [
    {
     "data": {
      "text/plain": [
       "0     35.467\n",
       "1     63.951\n",
       "2     80.940\n",
       "3     60.665\n",
       "4    127.061\n",
       "5     64.511\n",
       "6    318.523\n",
       "dtype: float64"
      ]
     },
     "execution_count": 6,
     "metadata": {},
     "output_type": "execute_result"
    }
   ],
   "source": [
    "#to read the data\n",
    "a"
   ]
  },
  {
   "cell_type": "code",
   "execution_count": 7,
   "id": "890ab61c-b9ba-4b79-a75a-42d20b5006cc",
   "metadata": {},
   "outputs": [
    {
     "data": {
      "text/plain": [
       "0     35.467\n",
       "1     63.951\n",
       "2     80.940\n",
       "3     60.665\n",
       "4    127.061\n",
       "5     64.511\n",
       "6    318.523\n",
       "Name: Population in millions, dtype: float64"
      ]
     },
     "execution_count": 7,
     "metadata": {},
     "output_type": "execute_result"
    }
   ],
   "source": [
    "#give the name of the data\n",
    "a.name ='Population in millions'\n",
    "a"
   ]
  },
  {
   "cell_type": "code",
   "execution_count": 9,
   "id": "c194b9ea-a101-4cd6-be73-5846e28c358e",
   "metadata": {},
   "outputs": [
    {
     "data": {
      "text/plain": [
       "dtype('float64')"
      ]
     },
     "execution_count": 9,
     "metadata": {},
     "output_type": "execute_result"
    }
   ],
   "source": [
    "#to knowing the data type\n",
    "a.dtype"
   ]
  },
  {
   "cell_type": "code",
   "execution_count": 10,
   "id": "f9d8b8a1-28ce-41bc-af9a-e5705f8302f1",
   "metadata": {},
   "outputs": [
    {
     "data": {
      "text/plain": [
       "array([ 35.467,  63.951,  80.94 ,  60.665, 127.061,  64.511, 318.523])"
      ]
     },
     "execution_count": 10,
     "metadata": {},
     "output_type": "execute_result"
    }
   ],
   "source": [
    "#to knowing the values\n",
    "a.values"
   ]
  },
  {
   "cell_type": "code",
   "execution_count": 11,
   "id": "6d37a75f-350e-4379-ade1-580ea4fa90a0",
   "metadata": {},
   "outputs": [
    {
     "data": {
      "text/plain": [
       "numpy.ndarray"
      ]
     },
     "execution_count": 11,
     "metadata": {},
     "output_type": "execute_result"
    }
   ],
   "source": [
    "type(a.values)"
   ]
  },
  {
   "cell_type": "code",
   "execution_count": 18,
   "id": "330f08ca-34c6-42ad-aea0-36032fe0ce60",
   "metadata": {},
   "outputs": [
    {
     "data": {
      "text/plain": [
       "35.467"
      ]
     },
     "execution_count": 18,
     "metadata": {},
     "output_type": "execute_result"
    }
   ],
   "source": [
    "#using list in data analysis\n",
    "a[0]"
   ]
  },
  {
   "cell_type": "code",
   "execution_count": 19,
   "id": "ade9528a-bdd4-4e22-8b48-2a5d9f98d997",
   "metadata": {},
   "outputs": [
    {
     "data": {
      "text/plain": [
       "RangeIndex(start=0, stop=7, step=1)"
      ]
     },
     "execution_count": 19,
     "metadata": {},
     "output_type": "execute_result"
    }
   ],
   "source": [
    "a.index"
   ]
  },
  {
   "cell_type": "code",
   "execution_count": 20,
   "id": "eb99220c-2fe1-443c-9150-592118b4c3a9",
   "metadata": {},
   "outputs": [],
   "source": [
    "l = ['a', 'b', 'c']"
   ]
  },
  {
   "cell_type": "code",
   "execution_count": 22,
   "id": "6f091eed-1bc3-44df-b88f-9fc9fc9de9a1",
   "metadata": {},
   "outputs": [
    {
     "data": {
      "text/plain": [
       "Canada             35.467\n",
       "France             63.951\n",
       "Germany            80.940\n",
       "Italy              60.665\n",
       "Japan             127.061\n",
       "United Kingdom     64.511\n",
       "United States     318.523\n",
       "Name: Population in millions, dtype: float64"
      ]
     },
     "execution_count": 22,
     "metadata": {},
     "output_type": "execute_result"
    }
   ],
   "source": [
    "#make index data\n",
    "a.index = [\n",
    "    'Canada',\n",
    "    'France',\n",
    "    'Germany',\n",
    "    'Italy',\n",
    "    'Japan',\n",
    "    'United Kingdom',\n",
    "    'United States',\n",
    "]\n",
    "a"
   ]
  },
  {
   "cell_type": "code",
   "execution_count": 23,
   "id": "b97bb342-03d5-4fc7-ae64-d613db18ef40",
   "metadata": {},
   "outputs": [
    {
     "data": {
      "text/plain": [
       "Canada             35.467\n",
       "France             63.951\n",
       "Germany            80.940\n",
       "Italy              60.665\n",
       "Japan             127.061\n",
       "United Kingdom     64.511\n",
       "United States     318.523\n",
       "Name: G7 Population in millions, dtype: float64"
      ]
     },
     "execution_count": 23,
     "metadata": {},
     "output_type": "execute_result"
    }
   ],
   "source": [
    "#different way to make the tabel\n",
    "pd.Series({\n",
    "    'Canada': 35.467,\n",
    "    'France': 63.951,\n",
    "    'Germany': 80.94,\n",
    "    'Italy': 60.665,\n",
    "    'Japan': 127.061,\n",
    "    'United Kingdom': 64.511,\n",
    "    'United States': 318.523\n",
    "}, name='G7 Population in millions')"
   ]
  },
  {
   "cell_type": "code",
   "execution_count": 24,
   "id": "66ca25ab-0550-4c96-b30e-4bad7e086dfd",
   "metadata": {},
   "outputs": [
    {
     "data": {
      "text/plain": [
       "Canada             35.467\n",
       "France             63.951\n",
       "Germany            80.940\n",
       "Italy              60.665\n",
       "Japan             127.061\n",
       "United Kingdom     64.511\n",
       "United States     318.523\n",
       "Name: G7 Population in millions, dtype: float64"
      ]
     },
     "execution_count": 24,
     "metadata": {},
     "output_type": "execute_result"
    }
   ],
   "source": [
    "#or you can use this\n",
    "pd.Series(\n",
    "    [35.467, 63.951, 80.94, 60.665, 127.061, 64.511, 318.523],\n",
    "    index=['Canada', 'France', 'Germany', 'Italy', 'Japan', 'United Kingdom',\n",
    "       'United States'],\n",
    "    name='G7 Population in millions')"
   ]
  },
  {
   "cell_type": "code",
   "execution_count": 27,
   "id": "c207ce8c-6218-43d0-98f4-c450ee5036c5",
   "metadata": {},
   "outputs": [
    {
     "data": {
      "text/plain": [
       "Canada             35.467\n",
       "France             63.951\n",
       "Germany            80.940\n",
       "Italy              60.665\n",
       "Japan             127.061\n",
       "United Kingdom     64.511\n",
       "United States     318.523\n",
       "Name: Population in millions, dtype: float64"
      ]
     },
     "execution_count": 27,
     "metadata": {},
     "output_type": "execute_result"
    }
   ],
   "source": [
    "a"
   ]
  },
  {
   "cell_type": "code",
   "execution_count": 30,
   "id": "4449154d-58cd-4933-80c8-dfc925700165",
   "metadata": {},
   "outputs": [
    {
     "data": {
      "text/plain": [
       "60.665"
      ]
     },
     "execution_count": 30,
     "metadata": {},
     "output_type": "execute_result"
    }
   ],
   "source": [
    "a['Italy'] #use list to see the value"
   ]
  },
  {
   "cell_type": "code",
   "execution_count": 31,
   "id": "99df814b-68f1-4b39-94ea-a01232722b9c",
   "metadata": {},
   "outputs": [
    {
     "data": {
      "text/plain": [
       "35.467"
      ]
     },
     "execution_count": 31,
     "metadata": {},
     "output_type": "execute_result"
    }
   ],
   "source": [
    "a.iloc[0] #you also can use this to see the value"
   ]
  },
  {
   "cell_type": "code",
   "execution_count": 32,
   "id": "52c7bd26-acfb-4a4c-b795-e3b397e460e7",
   "metadata": {},
   "outputs": [
    {
     "data": {
      "text/plain": [
       "318.523"
      ]
     },
     "execution_count": 32,
     "metadata": {},
     "output_type": "execute_result"
    }
   ],
   "source": [
    "a.iloc[-1] #to see the back value"
   ]
  },
  {
   "cell_type": "code",
   "execution_count": 34,
   "id": "91253fa4-c76b-4950-b803-590e1627e516",
   "metadata": {},
   "outputs": [
    {
     "data": {
      "text/plain": [
       "France            63.951\n",
       "United States    318.523\n",
       "Name: Population in millions, dtype: float64"
      ]
     },
     "execution_count": 34,
     "metadata": {},
     "output_type": "execute_result"
    }
   ],
   "source": [
    "a[['France','United States']] #to see multiple elements at once"
   ]
  },
  {
   "cell_type": "code",
   "execution_count": 35,
   "id": "c5a4d3be-cf8f-486b-a839-f606d6a2268b",
   "metadata": {},
   "outputs": [
    {
     "data": {
      "text/plain": [
       "France            63.951\n",
       "United States    318.523\n",
       "Name: Population in millions, dtype: float64"
      ]
     },
     "execution_count": 35,
     "metadata": {},
     "output_type": "execute_result"
    }
   ],
   "source": [
    "a.iloc[[1,6]] #also you can use this"
   ]
  },
  {
   "cell_type": "code",
   "execution_count": 37,
   "id": "29cdc045-ba9a-45ee-99cd-bfd6385a111f",
   "metadata": {},
   "outputs": [
    {
     "data": {
      "text/plain": [
       "Japan             127.061\n",
       "United Kingdom     64.511\n",
       "United States     318.523\n",
       "Name: Population in millions, dtype: float64"
      ]
     },
     "execution_count": 37,
     "metadata": {},
     "output_type": "execute_result"
    }
   ],
   "source": [
    "a['Japan':'United States']"
   ]
  },
  {
   "cell_type": "code",
   "execution_count": 38,
   "id": "0ef2defe-bd90-4255-8646-55382ce07f7c",
   "metadata": {},
   "outputs": [
    {
     "data": {
      "text/plain": [
       "Canada             35.467\n",
       "France             63.951\n",
       "Germany            80.940\n",
       "Italy              60.665\n",
       "Japan             127.061\n",
       "United Kingdom     64.511\n",
       "United States     318.523\n",
       "Name: Population in millions, dtype: float64"
      ]
     },
     "execution_count": 38,
     "metadata": {},
     "output_type": "execute_result"
    }
   ],
   "source": [
    "a\n"
   ]
  },
  {
   "cell_type": "code",
   "execution_count": 39,
   "id": "14d57c48-985f-4cc7-b7dd-c3a8f523685b",
   "metadata": {},
   "outputs": [
    {
     "data": {
      "text/plain": [
       "Canada            False\n",
       "France            False\n",
       "Germany            True\n",
       "Italy             False\n",
       "Japan              True\n",
       "United Kingdom    False\n",
       "United States      True\n",
       "Name: Population in millions, dtype: bool"
      ]
     },
     "execution_count": 39,
     "metadata": {},
     "output_type": "execute_result"
    }
   ],
   "source": [
    "a > 70 #see the value in boolean"
   ]
  },
  {
   "cell_type": "code",
   "execution_count": 40,
   "id": "7c4273eb-ae4d-4893-827b-3aa6b7a1f97c",
   "metadata": {},
   "outputs": [
    {
     "data": {
      "text/plain": [
       "Germany           80.940\n",
       "Japan            127.061\n",
       "United States    318.523\n",
       "Name: Population in millions, dtype: float64"
      ]
     },
     "execution_count": 40,
     "metadata": {},
     "output_type": "execute_result"
    }
   ],
   "source": [
    "a[a>70] #see the value in number"
   ]
  },
  {
   "cell_type": "code",
   "execution_count": 41,
   "id": "d23248d5-c3ca-4a9f-ba09-265c77715864",
   "metadata": {},
   "outputs": [
    {
     "data": {
      "text/plain": [
       "Canada            35.467\n",
       "France            63.951\n",
       "Italy             60.665\n",
       "United Kingdom    64.511\n",
       "Name: Population in millions, dtype: float64"
      ]
     },
     "execution_count": 41,
     "metadata": {},
     "output_type": "execute_result"
    }
   ],
   "source": [
    "a[a<70]"
   ]
  },
  {
   "cell_type": "code",
   "execution_count": 42,
   "id": "e10a3f2e-4b22-485f-99af-2423ce9848cb",
   "metadata": {},
   "outputs": [
    {
     "data": {
      "text/plain": [
       "107.30257142857144"
      ]
     },
     "execution_count": 42,
     "metadata": {},
     "output_type": "execute_result"
    }
   ],
   "source": [
    "a.mean() #to looking for the mean"
   ]
  },
  {
   "cell_type": "code",
   "execution_count": 43,
   "id": "316087f6-abf5-4878-b4d6-b01f708bdcbc",
   "metadata": {},
   "outputs": [
    {
     "data": {
      "text/plain": [
       "Japan            127.061\n",
       "United States    318.523\n",
       "Name: Population in millions, dtype: float64"
      ]
     },
     "execution_count": 43,
     "metadata": {},
     "output_type": "execute_result"
    }
   ],
   "source": [
    "a[a>a.mean()] #looking for the value more than the mean"
   ]
  },
  {
   "cell_type": "code",
   "execution_count": 46,
   "id": "c4c590be-8bc8-4735-b7c1-6c4b39efa311",
   "metadata": {},
   "outputs": [
    {
     "data": {
      "text/plain": [
       "97.24996987121581"
      ]
     },
     "execution_count": 46,
     "metadata": {},
     "output_type": "execute_result"
    }
   ],
   "source": [
    "a.std() #looking for standard deviation"
   ]
  },
  {
   "cell_type": "code",
   "execution_count": 49,
   "id": "5b127d20-1208-4285-9af9-b5507ca9cc82",
   "metadata": {},
   "outputs": [
    {
     "data": {
      "text/plain": [
       "France             63.951\n",
       "Germany            80.940\n",
       "Italy              60.665\n",
       "Japan             127.061\n",
       "United Kingdom     64.511\n",
       "United States     318.523\n",
       "Name: Population in millions, dtype: float64"
      ]
     },
     "execution_count": 49,
     "metadata": {},
     "output_type": "execute_result"
    }
   ],
   "source": [
    "a[(a > a.mean() - a.std() / 2) | (a > a.mean() + a.std() / 2)] #using some calculation"
   ]
  },
  {
   "cell_type": "code",
   "execution_count": 50,
   "id": "843482e8-5e7b-4c2b-80ab-618550bfe575",
   "metadata": {},
   "outputs": [
    {
     "data": {
      "text/plain": [
       "Canada             35.467\n",
       "France             63.951\n",
       "Germany            80.940\n",
       "Italy              60.665\n",
       "Japan             127.061\n",
       "United Kingdom     64.511\n",
       "United States     318.523\n",
       "Name: Population in millions, dtype: float64"
      ]
     },
     "execution_count": 50,
     "metadata": {},
     "output_type": "execute_result"
    }
   ],
   "source": [
    "a"
   ]
  },
  {
   "cell_type": "code",
   "execution_count": 53,
   "id": "993eb7d5-9cf1-4b48-839c-5d1fc2ee127d",
   "metadata": {},
   "outputs": [
    {
     "data": {
      "text/plain": [
       "Canada            35.467\n",
       "Germany           80.940\n",
       "Japan            127.061\n",
       "United States    318.523\n",
       "Name: Population in millions, dtype: float64"
      ]
     },
     "execution_count": 53,
     "metadata": {},
     "output_type": "execute_result"
    }
   ],
   "source": [
    "a[(a > 80) | (a < 40)]"
   ]
  },
  {
   "cell_type": "code",
   "execution_count": 54,
   "id": "f7ae7738-2abe-4e0e-9085-c5edee4ae948",
   "metadata": {},
   "outputs": [
    {
     "data": {
      "text/plain": [
       "68.51866666666666"
      ]
     },
     "execution_count": 54,
     "metadata": {},
     "output_type": "execute_result"
    }
   ],
   "source": [
    "a['France': 'Italy'].mean()"
   ]
  },
  {
   "cell_type": "code",
   "execution_count": 55,
   "id": "0d0b8f09-72d3-4925-93e6-9801ca92f7cf",
   "metadata": {},
   "outputs": [
    {
     "data": {
      "text/plain": [
       "Germany     80.940\n",
       "Japan      127.061\n",
       "Name: Population in millions, dtype: float64"
      ]
     },
     "execution_count": 55,
     "metadata": {},
     "output_type": "execute_result"
    }
   ],
   "source": [
    "a[(a > 80) & (a < 200)]"
   ]
  },
  {
   "cell_type": "code",
   "execution_count": 57,
   "id": "ec2cc794-71a9-4b55-8e18-8594ede940cb",
   "metadata": {},
   "outputs": [],
   "source": [
    "a['Canada'] = 40.5 #to change the value"
   ]
  },
  {
   "cell_type": "code",
   "execution_count": 58,
   "id": "56f2af6b-6f42-4c9b-a067-1749d370ba9c",
   "metadata": {},
   "outputs": [
    {
     "data": {
      "text/plain": [
       "Canada             40.500\n",
       "France             63.951\n",
       "Germany            80.940\n",
       "Italy              60.665\n",
       "Japan             127.061\n",
       "United Kingdom     64.511\n",
       "United States     318.523\n",
       "Name: Population in millions, dtype: float64"
      ]
     },
     "execution_count": 58,
     "metadata": {},
     "output_type": "execute_result"
    }
   ],
   "source": [
    "a"
   ]
  },
  {
   "cell_type": "code",
   "execution_count": 59,
   "id": "9f664736-de9c-4476-9113-76303bf5fd47",
   "metadata": {},
   "outputs": [],
   "source": [
    "a.iloc[-1] = 500 ##to change the value from back"
   ]
  },
  {
   "cell_type": "code",
   "execution_count": 60,
   "id": "a5736a20-d2e5-4f7e-8753-1ba544f924d8",
   "metadata": {},
   "outputs": [
    {
     "data": {
      "text/plain": [
       "Canada             40.500\n",
       "France             63.951\n",
       "Germany            80.940\n",
       "Italy              60.665\n",
       "Japan             127.061\n",
       "United Kingdom     64.511\n",
       "United States     500.000\n",
       "Name: Population in millions, dtype: float64"
      ]
     },
     "execution_count": 60,
     "metadata": {},
     "output_type": "execute_result"
    }
   ],
   "source": [
    "a"
   ]
  },
  {
   "cell_type": "code",
   "execution_count": 61,
   "id": "0d1134d3-3ac0-4b01-933f-6a549f926260",
   "metadata": {},
   "outputs": [],
   "source": [
    "a[a < 70] = 99.99 #make the same value under the 70"
   ]
  },
  {
   "cell_type": "code",
   "execution_count": 62,
   "id": "070eab10-57a2-4261-827f-62bbde4cb6ed",
   "metadata": {},
   "outputs": [
    {
     "data": {
      "text/plain": [
       "Canada             99.990\n",
       "France             99.990\n",
       "Germany            80.940\n",
       "Italy              99.990\n",
       "Japan             127.061\n",
       "United Kingdom     99.990\n",
       "United States     500.000\n",
       "Name: Population in millions, dtype: float64"
      ]
     },
     "execution_count": 62,
     "metadata": {},
     "output_type": "execute_result"
    }
   ],
   "source": [
    "a"
   ]
  },
  {
   "cell_type": "code",
   "execution_count": null,
   "id": "0a5a7c0f-9674-43e7-93a7-acd4c47637b7",
   "metadata": {},
   "outputs": [],
   "source": []
  },
  {
   "cell_type": "markdown",
   "id": "717354c7-4cb7-4e0f-a9aa-d78d25afb297",
   "metadata": {},
   "source": [
    "# ANOTHER EXERCISE "
   ]
  },
  {
   "cell_type": "code",
   "execution_count": null,
   "id": "449db645-9a63-475d-82b8-5f056ca469b1",
   "metadata": {},
   "outputs": [],
   "source": []
  },
  {
   "cell_type": "code",
   "execution_count": 98,
   "id": "f9e3c7c5-c85a-4b88-94ee-ec9dbe14988d",
   "metadata": {},
   "outputs": [
    {
     "data": {
      "text/plain": [
       "0    E\n",
       "1    F\n",
       "2    G\n",
       "Name: My letters, dtype: object"
      ]
     },
     "execution_count": 98,
     "metadata": {},
     "output_type": "execute_result"
    }
   ],
   "source": [
    "#Given the X pandas Series, name it 'My letters'\n",
    "X = pd.Series(['E','F','G'])\n",
    "X.name ='My letters'\n",
    "X"
   ]
  },
  {
   "cell_type": "code",
   "execution_count": 68,
   "id": "8edd5bcc-d7e9-4ce3-88a6-6fbc7918f55e",
   "metadata": {},
   "outputs": [
    {
     "data": {
      "text/plain": [
       "array(['E', 'F', 'G'], dtype=object)"
      ]
     },
     "execution_count": 68,
     "metadata": {},
     "output_type": "execute_result"
    }
   ],
   "source": [
    "#show the values\n",
    "X.values"
   ]
  },
  {
   "cell_type": "code",
   "execution_count": 69,
   "id": "783a8457-312e-4dc6-b407-fe2ccda423d7",
   "metadata": {},
   "outputs": [
    {
     "data": {
      "text/plain": [
       "first     E\n",
       "second    F\n",
       "third     G\n",
       "dtype: object"
      ]
     },
     "execution_count": 69,
     "metadata": {},
     "output_type": "execute_result"
    }
   ],
   "source": [
    "#Assign index names to the given X pandas Series\n",
    "X = pd.Series(['E', 'F','G'])\n",
    "index_name = ['first','second','third']\n",
    "\n",
    "X.index = index_name\n",
    "X"
   ]
  },
  {
   "cell_type": "code",
   "execution_count": 70,
   "id": "5fe0a431-d86f-4f79-94e1-619c237db879",
   "metadata": {},
   "outputs": [
    {
     "data": {
      "text/plain": [
       "'E'"
      ]
     },
     "execution_count": 70,
     "metadata": {},
     "output_type": "execute_result"
    }
   ],
   "source": [
    "#Given the X pandas Series, show its first element\n",
    "X = pd.Series(['E','F','G'], index=['first', 'second', 'third'])\n",
    "\n",
    "#X[0] # by position\n",
    "#X.iloc[0] # by position\n",
    "X['first'] # by index"
   ]
  },
  {
   "cell_type": "code",
   "execution_count": 71,
   "id": "6a0eb348-c812-473e-8256-bcacd35836e5",
   "metadata": {},
   "outputs": [
    {
     "data": {
      "text/plain": [
       "'G'"
      ]
     },
     "execution_count": 71,
     "metadata": {},
     "output_type": "execute_result"
    }
   ],
   "source": [
    "#Given the X pandas Series, show its last element\n",
    "X = pd.Series(['E','F','G'], index=['first', 'second', 'third'])\n",
    "\n",
    "#X[-1] # by position\n",
    "#X.iloc[-1] # by position\n",
    "X['third'] # by index\n"
   ]
  },
  {
   "cell_type": "code",
   "execution_count": 72,
   "id": "062058c8-5b22-41df-93e8-4f028190d676",
   "metadata": {},
   "outputs": [
    {
     "data": {
      "text/plain": [
       "second    F\n",
       "third     G\n",
       "forth     H\n",
       "dtype: object"
      ]
     },
     "execution_count": 72,
     "metadata": {},
     "output_type": "execute_result"
    }
   ],
   "source": [
    "#Given the X pandas Series, show all middle elements\n",
    "X = pd.Series(['E','F','G','H','I'],\n",
    "              index=['first','second','third','forth','fifth'])\n",
    "\n",
    "#X[['second', 'third', 'forth']]\n",
    "#X.iloc[1:-1] # by position\n",
    "X[1:-1] # by position"
   ]
  },
  {
   "cell_type": "code",
   "execution_count": 73,
   "id": "39fc6984-2023-4699-bff1-48eaadb9423c",
   "metadata": {},
   "outputs": [
    {
     "data": {
      "text/plain": [
       "dtype('O')"
      ]
     },
     "execution_count": 73,
     "metadata": {},
     "output_type": "execute_result"
    }
   ],
   "source": [
    "X.dtype #it is mean dont have data type or the data type is object"
   ]
  },
  {
   "cell_type": "code",
   "execution_count": 74,
   "id": "9c0baeb3-6761-4596-bf0e-0a29293d8f5a",
   "metadata": {},
   "outputs": [
    {
     "data": {
      "text/plain": [
       "fifth     I\n",
       "forth     H\n",
       "third     G\n",
       "second    F\n",
       "first     E\n",
       "dtype: object"
      ]
     },
     "execution_count": 74,
     "metadata": {},
     "output_type": "execute_result"
    }
   ],
   "source": [
    "#Given the X pandas Series, show the elements in reverse position\n",
    "X = pd.Series(['E','F','G','H','I'],\n",
    "              index=['first','second','third','forth','fifth'])\n",
    "\n",
    "#X.iloc[::-1]\n",
    "X[::-1]"
   ]
  },
  {
   "cell_type": "code",
   "execution_count": 75,
   "id": "9f0a91b8-f1b2-48c7-a83f-2930cb09052d",
   "metadata": {},
   "outputs": [
    {
     "data": {
      "text/plain": [
       "first    E\n",
       "fifth    I\n",
       "dtype: object"
      ]
     },
     "execution_count": 75,
     "metadata": {},
     "output_type": "execute_result"
    }
   ],
   "source": [
    "#Given the X pandas Series, show the first and last elements\n",
    "X = pd.Series(['E','F','G','H','I'],\n",
    "              index=['first','second','third','forth','fifth'])\n",
    "\n",
    "#X[['first', 'fifth']]\n",
    "#X.iloc[[0, -1]]\n",
    "X[[0, -1]]"
   ]
  },
  {
   "cell_type": "code",
   "execution_count": 77,
   "id": "ae2c2e91-5450-45b8-8258-7c2422adc93d",
   "metadata": {},
   "outputs": [
    {
     "data": {
      "text/plain": [
       "first     11.0\n",
       "second    12.0\n",
       "third     13.0\n",
       "forth     14.0\n",
       "fifth     15.0\n",
       "dtype: float64"
      ]
     },
     "execution_count": 77,
     "metadata": {},
     "output_type": "execute_result"
    }
   ],
   "source": [
    "#Convert the given integer pandas Series to float\n",
    "\n",
    "X = pd.Series([11,12,13,14,15],\n",
    "              index=['first','second','third','forth','fifth'])\n",
    "\n",
    "pd.Series(X, dtype=np.float64)"
   ]
  },
  {
   "cell_type": "code",
   "execution_count": 78,
   "id": "1f8f6de4-7e90-451c-834e-ec622bab255c",
   "metadata": {},
   "outputs": [
    {
     "data": {
      "text/plain": [
       "fifth     15\n",
       "forth     14\n",
       "third     13\n",
       "second    12\n",
       "first     11\n",
       "dtype: int64"
      ]
     },
     "execution_count": 78,
     "metadata": {},
     "output_type": "execute_result"
    }
   ],
   "source": [
    "#Reverse the given pandas Series (first element becomes last)\n",
    "X = pd.Series([11,12,13,14,15],\n",
    "              index=['first','second','third','forth','fifth'])\n",
    "\n",
    "X[::-1]"
   ]
  },
  {
   "cell_type": "code",
   "execution_count": 79,
   "id": "11291ce3-d389-427f-ba83-864c92c1f137",
   "metadata": {},
   "outputs": [
    {
     "data": {
      "text/plain": [
       "first     11\n",
       "second    12\n",
       "third     13\n",
       "forth     14\n",
       "fifth     15\n",
       "dtype: int64"
      ]
     },
     "execution_count": 79,
     "metadata": {},
     "output_type": "execute_result"
    }
   ],
   "source": [
    "#Order (sort) the given pandas Series\n",
    "X = pd.Series([14,12,15,11,13],\n",
    "              index=['forth','second','fifth','first','third'])\n",
    "\n",
    "X = X.sort_values()\n",
    "X"
   ]
  },
  {
   "cell_type": "code",
   "execution_count": 80,
   "id": "559262a5-f85c-4c7c-bb8d-f9079d1e2fe3",
   "metadata": {},
   "outputs": [
    {
     "data": {
      "text/plain": [
       "A    11\n",
       "B    12\n",
       "C    13\n",
       "D    14\n",
       "E    10\n",
       "dtype: int64"
      ]
     },
     "execution_count": 80,
     "metadata": {},
     "output_type": "execute_result"
    }
   ],
   "source": [
    "#Given the X pandas Series, set the fifth element equal to 10\n",
    "X = pd.Series([11,12,13,14,15],\n",
    "              index=['A','B','C','D','E'])\n",
    "\n",
    "X[4] = 10\n",
    "X"
   ]
  },
  {
   "cell_type": "code",
   "execution_count": 82,
   "id": "b48058b4-b21f-4063-ad1f-d8b8d3725376",
   "metadata": {},
   "outputs": [
    {
     "data": {
      "text/plain": [
       "A    11\n",
       "B     0\n",
       "C     0\n",
       "D     0\n",
       "E    15\n",
       "dtype: int64"
      ]
     },
     "execution_count": 82,
     "metadata": {},
     "output_type": "execute_result"
    }
   ],
   "source": [
    "#Given the X pandas Series, change all the middle elements to 0\n",
    "X[1:-1] = 0\n",
    "X"
   ]
  },
  {
   "cell_type": "code",
   "execution_count": 83,
   "id": "51e736f0-b7e4-4da3-832c-7cc1ef807b4b",
   "metadata": {},
   "outputs": [
    {
     "data": {
      "text/plain": [
       "0    16\n",
       "1    17\n",
       "2    18\n",
       "3    19\n",
       "4    20\n",
       "dtype: int64"
      ]
     },
     "execution_count": 83,
     "metadata": {},
     "output_type": "execute_result"
    }
   ],
   "source": [
    "#Given the X pandas Series, add 5 to every element\n",
    "X = pd.Series([11,12,13,14,15])\n",
    "\n",
    "X + 5"
   ]
  },
  {
   "cell_type": "code",
   "execution_count": 84,
   "id": "2da0115a-18e1-4b33-a701-fb1b41eb77c4",
   "metadata": {},
   "outputs": [
    {
     "data": {
      "text/plain": [
       "0     True\n",
       "1    False\n",
       "2     True\n",
       "3     True\n",
       "4    False\n",
       "5    False\n",
       "6     True\n",
       "7     True\n",
       "8     True\n",
       "9    False\n",
       "dtype: bool"
      ]
     },
     "execution_count": 84,
     "metadata": {},
     "output_type": "execute_result"
    }
   ],
   "source": [
    "#Given the X pandas Series, make a mask showing negative element\n",
    "X = pd.Series([-1,2,0,-4,5,6,0,0,-9,10])\n",
    "\n",
    "mask = X <= 0\n",
    "mask"
   ]
  },
  {
   "cell_type": "code",
   "execution_count": 85,
   "id": "02f59dd5-f75e-4177-acfa-73313c77a950",
   "metadata": {},
   "outputs": [
    {
     "data": {
      "text/plain": [
       "0   -1\n",
       "2    0\n",
       "3   -4\n",
       "6    0\n",
       "7    0\n",
       "8   -9\n",
       "dtype: int64"
      ]
     },
     "execution_count": 85,
     "metadata": {},
     "output_type": "execute_result"
    }
   ],
   "source": [
    "#Given the X pandas Series, get the negative elements\n",
    "X = pd.Series([-1,2,0,-4,5,6,0,0,-9,10])\n",
    "\n",
    "mask = X <= 0\n",
    "X[mask]"
   ]
  },
  {
   "cell_type": "code",
   "execution_count": null,
   "id": "ddf35a02-642c-444c-adce-0846d9c45de9",
   "metadata": {},
   "outputs": [
    {
     "data": {
      "text/plain": [
       "5     6\n",
       "9    10\n",
       "dtype: int64"
      ]
     },
     "execution_count": 86,
     "metadata": {},
     "output_type": "execute_result"
    }
   ],
   "source": [
    "#Given the X pandas Series, get numbers higher than 5\n",
    "mask = X > 5\n",
    "X[mask]"
   ]
  },
  {
   "cell_type": "code",
   "execution_count": 88,
   "id": "168e2b9e-8b43-4101-8c5b-0eec738a6979",
   "metadata": {},
   "outputs": [
    {
     "data": {
      "text/plain": [
       "0.9"
      ]
     },
     "execution_count": 88,
     "metadata": {},
     "output_type": "execute_result"
    }
   ],
   "source": [
    "X.mean()"
   ]
  },
  {
   "cell_type": "code",
   "execution_count": 87,
   "id": "503f1536-0539-40c1-b6fa-ca33d3c89d85",
   "metadata": {},
   "outputs": [
    {
     "data": {
      "text/plain": [
       "1     2\n",
       "4     5\n",
       "5     6\n",
       "9    10\n",
       "dtype: int64"
      ]
     },
     "execution_count": 87,
     "metadata": {},
     "output_type": "execute_result"
    }
   ],
   "source": [
    "#Given the X pandas Series, get numbers higher than the elements mean\n",
    "mask = X > X.mean()\n",
    "X[mask]"
   ]
  },
  {
   "cell_type": "code",
   "execution_count": 89,
   "id": "392422f5-dbd6-4ca8-99ee-54e3ac3c1620",
   "metadata": {},
   "outputs": [
    {
     "data": {
      "text/plain": [
       "1     2\n",
       "9    10\n",
       "dtype: int64"
      ]
     },
     "execution_count": 89,
     "metadata": {},
     "output_type": "execute_result"
    }
   ],
   "source": [
    "#Given the X pandas Series, get numbers equal to 2 or 10\n",
    "mask = (X == 2) | (X == 10)\n",
    "X[mask]"
   ]
  },
  {
   "cell_type": "code",
   "execution_count": 90,
   "id": "a6649ac5-0a16-41a2-9f03-fb04ef5b9946",
   "metadata": {},
   "outputs": [
    {
     "data": {
      "text/plain": [
       "False"
      ]
     },
     "execution_count": 90,
     "metadata": {},
     "output_type": "execute_result"
    }
   ],
   "source": [
    "#Given the X pandas Series, return True if none of its elements is zero\n",
    "X.all()"
   ]
  },
  {
   "cell_type": "code",
   "execution_count": 91,
   "id": "b7ee058a-52b2-442f-851e-743d33d7710d",
   "metadata": {},
   "outputs": [
    {
     "data": {
      "text/plain": [
       "True"
      ]
     },
     "execution_count": 91,
     "metadata": {},
     "output_type": "execute_result"
    }
   ],
   "source": [
    "#Given the X pandas Series, return True if any of its elements is zero\n",
    "X.any()"
   ]
  },
  {
   "cell_type": "code",
   "execution_count": 92,
   "id": "1daf1d43-20d9-43bb-8b7c-11b50b9cf958",
   "metadata": {},
   "outputs": [
    {
     "data": {
      "text/plain": [
       "43"
      ]
     },
     "execution_count": 92,
     "metadata": {},
     "output_type": "execute_result"
    }
   ],
   "source": [
    "#Given the X pandas Series, show the sum of its elements\n",
    "X = pd.Series([3,5,6,7,2,3,4,9,4])\n",
    "\n",
    "#np.sum(X)\n",
    "X.sum()"
   ]
  },
  {
   "cell_type": "code",
   "execution_count": 93,
   "id": "17100e20-cea7-44fc-98ee-c9a9dd17ba22",
   "metadata": {},
   "outputs": [
    {
     "data": {
      "text/plain": [
       "4.777777777777778"
      ]
     },
     "execution_count": 93,
     "metadata": {},
     "output_type": "execute_result"
    }
   ],
   "source": [
    "X.mean()"
   ]
  },
  {
   "cell_type": "code",
   "execution_count": 94,
   "id": "943071f8-0bc7-43fa-a3fe-c0e03f708dd5",
   "metadata": {},
   "outputs": [
    {
     "data": {
      "text/plain": [
       "9"
      ]
     },
     "execution_count": 94,
     "metadata": {},
     "output_type": "execute_result"
    }
   ],
   "source": [
    "X.max()"
   ]
  },
  {
   "cell_type": "code",
   "execution_count": 95,
   "id": "e2976f63-3df1-4ec4-a538-966bde238d00",
   "metadata": {},
   "outputs": [
    {
     "data": {
      "text/plain": [
       "2"
      ]
     },
     "execution_count": 95,
     "metadata": {},
     "output_type": "execute_result"
    }
   ],
   "source": [
    "X.min()"
   ]
  },
  {
   "cell_type": "markdown",
   "id": "8ffb4cda-930d-4790-a5c3-17af4c4a2cf6",
   "metadata": {},
   "source": [
    "If you dont understand some code above, just go to the documentation of pandas and numpy"
   ]
  }
 ],
 "metadata": {
  "kernelspec": {
   "display_name": "Python 3 (ipykernel)",
   "language": "python",
   "name": "python3"
  },
  "language_info": {
   "codemirror_mode": {
    "name": "ipython",
    "version": 3
   },
   "file_extension": ".py",
   "mimetype": "text/x-python",
   "name": "python",
   "nbconvert_exporter": "python",
   "pygments_lexer": "ipython3",
   "version": "3.9.13"
  }
 },
 "nbformat": 4,
 "nbformat_minor": 5
}
